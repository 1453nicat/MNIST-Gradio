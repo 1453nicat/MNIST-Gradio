{
  "nbformat": 4,
  "nbformat_minor": 0,
  "metadata": {
    "colab": {
      "provenance": []
    },
    "kernelspec": {
      "name": "python3",
      "display_name": "Python 3"
    },
    "language_info": {
      "name": "python"
    }
  },
  "cells": [
    {
      "cell_type": "markdown",
      "source": [
        "![aa.svg](data:image/svg+xml;base64,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)"
      ],
      "metadata": {
        "id": "E2SdRVI3dn1y"
      }
    },
    {
      "cell_type": "code",
      "source": [
        "pip install gradio"
      ],
      "metadata": {
        "colab": {
          "base_uri": "https://localhost:8080/"
        },
        "id": "0bVY9IRfzaXS",
        "outputId": "5db8a1eb-cc7c-49b7-9adc-034230867f22"
      },
      "execution_count": 18,
      "outputs": [
        {
          "output_type": "stream",
          "name": "stdout",
          "text": [
            "Requirement already satisfied: gradio in /usr/local/lib/python3.11/dist-packages (5.16.0)\n",
            "Requirement already satisfied: aiofiles<24.0,>=22.0 in /usr/local/lib/python3.11/dist-packages (from gradio) (23.2.1)\n",
            "Requirement already satisfied: anyio<5.0,>=3.0 in /usr/local/lib/python3.11/dist-packages (from gradio) (3.7.1)\n",
            "Requirement already satisfied: fastapi<1.0,>=0.115.2 in /usr/local/lib/python3.11/dist-packages (from gradio) (0.115.8)\n",
            "Requirement already satisfied: ffmpy in /usr/local/lib/python3.11/dist-packages (from gradio) (0.5.0)\n",
            "Requirement already satisfied: gradio-client==1.7.0 in /usr/local/lib/python3.11/dist-packages (from gradio) (1.7.0)\n",
            "Requirement already satisfied: httpx>=0.24.1 in /usr/local/lib/python3.11/dist-packages (from gradio) (0.28.1)\n",
            "Requirement already satisfied: huggingface-hub>=0.28.1 in /usr/local/lib/python3.11/dist-packages (from gradio) (0.28.1)\n",
            "Requirement already satisfied: jinja2<4.0 in /usr/local/lib/python3.11/dist-packages (from gradio) (3.1.5)\n",
            "Requirement already satisfied: markupsafe~=2.0 in /usr/local/lib/python3.11/dist-packages (from gradio) (2.1.5)\n",
            "Requirement already satisfied: numpy<3.0,>=1.0 in /usr/local/lib/python3.11/dist-packages (from gradio) (1.26.4)\n",
            "Requirement already satisfied: orjson~=3.0 in /usr/local/lib/python3.11/dist-packages (from gradio) (3.10.15)\n",
            "Requirement already satisfied: packaging in /usr/local/lib/python3.11/dist-packages (from gradio) (24.2)\n",
            "Requirement already satisfied: pandas<3.0,>=1.0 in /usr/local/lib/python3.11/dist-packages (from gradio) (2.2.2)\n",
            "Requirement already satisfied: pillow<12.0,>=8.0 in /usr/local/lib/python3.11/dist-packages (from gradio) (11.1.0)\n",
            "Requirement already satisfied: pydantic>=2.0 in /usr/local/lib/python3.11/dist-packages (from gradio) (2.10.6)\n",
            "Requirement already satisfied: pydub in /usr/local/lib/python3.11/dist-packages (from gradio) (0.25.1)\n",
            "Requirement already satisfied: python-multipart>=0.0.18 in /usr/local/lib/python3.11/dist-packages (from gradio) (0.0.20)\n",
            "Requirement already satisfied: pyyaml<7.0,>=5.0 in /usr/local/lib/python3.11/dist-packages (from gradio) (6.0.2)\n",
            "Requirement already satisfied: ruff>=0.9.3 in /usr/local/lib/python3.11/dist-packages (from gradio) (0.9.6)\n",
            "Requirement already satisfied: safehttpx<0.2.0,>=0.1.6 in /usr/local/lib/python3.11/dist-packages (from gradio) (0.1.6)\n",
            "Requirement already satisfied: semantic-version~=2.0 in /usr/local/lib/python3.11/dist-packages (from gradio) (2.10.0)\n",
            "Requirement already satisfied: starlette<1.0,>=0.40.0 in /usr/local/lib/python3.11/dist-packages (from gradio) (0.45.3)\n",
            "Requirement already satisfied: tomlkit<0.14.0,>=0.12.0 in /usr/local/lib/python3.11/dist-packages (from gradio) (0.13.2)\n",
            "Requirement already satisfied: typer<1.0,>=0.12 in /usr/local/lib/python3.11/dist-packages (from gradio) (0.15.1)\n",
            "Requirement already satisfied: typing-extensions~=4.0 in /usr/local/lib/python3.11/dist-packages (from gradio) (4.12.2)\n",
            "Requirement already satisfied: uvicorn>=0.14.0 in /usr/local/lib/python3.11/dist-packages (from gradio) (0.34.0)\n",
            "Requirement already satisfied: fsspec in /usr/local/lib/python3.11/dist-packages (from gradio-client==1.7.0->gradio) (2024.10.0)\n",
            "Requirement already satisfied: websockets<15.0,>=10.0 in /usr/local/lib/python3.11/dist-packages (from gradio-client==1.7.0->gradio) (14.2)\n",
            "Requirement already satisfied: idna>=2.8 in /usr/local/lib/python3.11/dist-packages (from anyio<5.0,>=3.0->gradio) (3.10)\n",
            "Requirement already satisfied: sniffio>=1.1 in /usr/local/lib/python3.11/dist-packages (from anyio<5.0,>=3.0->gradio) (1.3.1)\n",
            "Requirement already satisfied: certifi in /usr/local/lib/python3.11/dist-packages (from httpx>=0.24.1->gradio) (2025.1.31)\n",
            "Requirement already satisfied: httpcore==1.* in /usr/local/lib/python3.11/dist-packages (from httpx>=0.24.1->gradio) (1.0.7)\n",
            "Requirement already satisfied: h11<0.15,>=0.13 in /usr/local/lib/python3.11/dist-packages (from httpcore==1.*->httpx>=0.24.1->gradio) (0.14.0)\n",
            "Requirement already satisfied: filelock in /usr/local/lib/python3.11/dist-packages (from huggingface-hub>=0.28.1->gradio) (3.17.0)\n",
            "Requirement already satisfied: requests in /usr/local/lib/python3.11/dist-packages (from huggingface-hub>=0.28.1->gradio) (2.32.3)\n",
            "Requirement already satisfied: tqdm>=4.42.1 in /usr/local/lib/python3.11/dist-packages (from huggingface-hub>=0.28.1->gradio) (4.67.1)\n",
            "Requirement already satisfied: python-dateutil>=2.8.2 in /usr/local/lib/python3.11/dist-packages (from pandas<3.0,>=1.0->gradio) (2.8.2)\n",
            "Requirement already satisfied: pytz>=2020.1 in /usr/local/lib/python3.11/dist-packages (from pandas<3.0,>=1.0->gradio) (2025.1)\n",
            "Requirement already satisfied: tzdata>=2022.7 in /usr/local/lib/python3.11/dist-packages (from pandas<3.0,>=1.0->gradio) (2025.1)\n",
            "Requirement already satisfied: annotated-types>=0.6.0 in /usr/local/lib/python3.11/dist-packages (from pydantic>=2.0->gradio) (0.7.0)\n",
            "Requirement already satisfied: pydantic-core==2.27.2 in /usr/local/lib/python3.11/dist-packages (from pydantic>=2.0->gradio) (2.27.2)\n",
            "Requirement already satisfied: click>=8.0.0 in /usr/local/lib/python3.11/dist-packages (from typer<1.0,>=0.12->gradio) (8.1.8)\n",
            "Requirement already satisfied: shellingham>=1.3.0 in /usr/local/lib/python3.11/dist-packages (from typer<1.0,>=0.12->gradio) (1.5.4)\n",
            "Requirement already satisfied: rich>=10.11.0 in /usr/local/lib/python3.11/dist-packages (from typer<1.0,>=0.12->gradio) (13.9.4)\n",
            "Requirement already satisfied: six>=1.5 in /usr/local/lib/python3.11/dist-packages (from python-dateutil>=2.8.2->pandas<3.0,>=1.0->gradio) (1.17.0)\n",
            "Requirement already satisfied: markdown-it-py>=2.2.0 in /usr/local/lib/python3.11/dist-packages (from rich>=10.11.0->typer<1.0,>=0.12->gradio) (3.0.0)\n",
            "Requirement already satisfied: pygments<3.0.0,>=2.13.0 in /usr/local/lib/python3.11/dist-packages (from rich>=10.11.0->typer<1.0,>=0.12->gradio) (2.18.0)\n",
            "Requirement already satisfied: charset-normalizer<4,>=2 in /usr/local/lib/python3.11/dist-packages (from requests->huggingface-hub>=0.28.1->gradio) (3.4.1)\n",
            "Requirement already satisfied: urllib3<3,>=1.21.1 in /usr/local/lib/python3.11/dist-packages (from requests->huggingface-hub>=0.28.1->gradio) (2.3.0)\n",
            "Requirement already satisfied: mdurl~=0.1 in /usr/local/lib/python3.11/dist-packages (from markdown-it-py>=2.2.0->rich>=10.11.0->typer<1.0,>=0.12->gradio) (0.1.2)\n"
          ]
        }
      ]
    },
    {
      "cell_type": "code",
      "execution_count": 19,
      "metadata": {
        "id": "6vc_vZSdydDZ"
      },
      "outputs": [],
      "source": [
        "import tensorflow as tf\n",
        "import gradio as gr\n",
        "from tensorflow.keras.datasets import mnist\n",
        "from tensorflow.keras.utils import to_categorical\n",
        "from tensorflow.keras.models import Sequential\n",
        "from tensorflow.keras.layers import Conv2D, Dense, MaxPooling2D, Flatten"
      ]
    },
    {
      "cell_type": "code",
      "source": [
        "(x_train, y_train), (x_val, y_val) = mnist.load_data()\n",
        "\n",
        "x_train = x_train.reshape((60000, 28, 28, 1)).astype(\"float32\") / 255\n",
        "x_val = x_val.reshape((10000, 28, 28, 1)).astype(\"float32\") / 255\n",
        "\n",
        "y_train = to_categorical(y_train)\n",
        "y_val = to_categorical(y_val)"
      ],
      "metadata": {
        "id": "C4GnXds7zQFK"
      },
      "execution_count": 6,
      "outputs": []
    },
    {
      "cell_type": "code",
      "source": [
        "#model\n",
        "\n",
        "model = Sequential([\n",
        "    Conv2D(32, (3, 3), activation = \"relu\", input_shape = (28, 28, 1)),\n",
        "    MaxPooling2D((2, 2)),\n",
        "    Conv2D(64, (3, 3), activation = \"relu\"),\n",
        "    MaxPooling2D((2, 2)),\n",
        "    Conv2D(64, (3, 3), activation = \"relu\"),\n",
        "    Flatten(),\n",
        "    Dense(64, activation = \"relu\"),\n",
        "    Dense(10, activation = \"softmax\")\n",
        "])\n",
        "\n",
        "model.compile(optimizer = \"adam\", loss = \"categorical_crossentropy\",\n",
        "              metrics = ['accuracy'])\n",
        "model.fit(x_train, y_train, validation_data = (x_val, y_val),\n",
        "          epochs = 5, batch_size = 64)"
      ],
      "metadata": {
        "colab": {
          "base_uri": "https://localhost:8080/"
        },
        "id": "yUDagqCq0OIv",
        "outputId": "61569f9d-c329-4260-bfcb-107184fde712"
      },
      "execution_count": 10,
      "outputs": [
        {
          "output_type": "stream",
          "name": "stdout",
          "text": [
            "Epoch 1/5\n",
            "\u001b[1m938/938\u001b[0m \u001b[32m━━━━━━━━━━━━━━━━━━━━\u001b[0m\u001b[37m\u001b[0m \u001b[1m70s\u001b[0m 70ms/step - accuracy: 0.8779 - loss: 0.4295 - val_accuracy: 0.9832 - val_loss: 0.0502\n",
            "Epoch 2/5\n",
            "\u001b[1m938/938\u001b[0m \u001b[32m━━━━━━━━━━━━━━━━━━━━\u001b[0m\u001b[37m\u001b[0m \u001b[1m96s\u001b[0m 85ms/step - accuracy: 0.9841 - loss: 0.0512 - val_accuracy: 0.9859 - val_loss: 0.0429\n",
            "Epoch 3/5\n",
            "\u001b[1m938/938\u001b[0m \u001b[32m━━━━━━━━━━━━━━━━━━━━\u001b[0m\u001b[37m\u001b[0m \u001b[1m72s\u001b[0m 74ms/step - accuracy: 0.9897 - loss: 0.0338 - val_accuracy: 0.9878 - val_loss: 0.0369\n",
            "Epoch 4/5\n",
            "\u001b[1m938/938\u001b[0m \u001b[32m━━━━━━━━━━━━━━━━━━━━\u001b[0m\u001b[37m\u001b[0m \u001b[1m73s\u001b[0m 64ms/step - accuracy: 0.9906 - loss: 0.0273 - val_accuracy: 0.9893 - val_loss: 0.0317\n",
            "Epoch 5/5\n",
            "\u001b[1m938/938\u001b[0m \u001b[32m━━━━━━━━━━━━━━━━━━━━\u001b[0m\u001b[37m\u001b[0m \u001b[1m82s\u001b[0m 64ms/step - accuracy: 0.9926 - loss: 0.0207 - val_accuracy: 0.9922 - val_loss: 0.0249\n"
          ]
        },
        {
          "output_type": "execute_result",
          "data": {
            "text/plain": [
              "<keras.src.callbacks.history.History at 0x7dd5eba60e90>"
            ]
          },
          "metadata": {},
          "execution_count": 10
        }
      ]
    },
    {
      "cell_type": "code",
      "source": [
        "def find(pic):\n",
        "  if pic is not None:\n",
        "    pic = pic.reshape((1, 28, 28, 1)).astype(\"flaot32\") / 255\n",
        "    pic = pic.resize((28, 28))\n",
        "    pred = model.predict(pic)\n",
        "\n",
        "    return {str(i): float(pred[0][i] for i in range(10))}\n",
        "\n",
        "  else:\n",
        "    return \"\"\n",
        "\n",
        "interface = gr.Interface(\n",
        "    fn = find,\n",
        "    inputs=gr.Image(type=\"pil\", image_mode=\"L\", interactive=True),\n",
        "    outputs = gr.Label(num_top_classes = 3),\n",
        "    live = True\n",
        ")\n",
        "\n",
        "interface.launch()"
      ],
      "metadata": {
        "colab": {
          "base_uri": "https://localhost:8080/",
          "height": 646
        },
        "id": "SVeyv4vc1PFv",
        "outputId": "14df54c8-b02d-4fba-8aa7-c24244a714ec"
      },
      "execution_count": 36,
      "outputs": [
        {
          "output_type": "stream",
          "name": "stdout",
          "text": [
            "Running Gradio in a Colab notebook requires sharing enabled. Automatically setting `share=True` (you can turn this off by setting `share=False` in `launch()` explicitly).\n",
            "\n",
            "Colab notebook detected. To show errors in colab notebook, set debug=True in launch()\n",
            "* Running on public URL: https://31d432270f56f3fdc0.gradio.live\n",
            "\n",
            "This share link expires in 72 hours. For free permanent hosting and GPU upgrades, run `gradio deploy` from the terminal in the working directory to deploy to Hugging Face Spaces (https://huggingface.co/spaces)\n"
          ]
        },
        {
          "output_type": "display_data",
          "data": {
            "text/plain": [
              "<IPython.core.display.HTML object>"
            ],
            "text/html": [
              "<div><iframe src=\"https://31d432270f56f3fdc0.gradio.live\" width=\"100%\" height=\"500\" allow=\"autoplay; camera; microphone; clipboard-read; clipboard-write;\" frameborder=\"0\" allowfullscreen></iframe></div>"
            ]
          },
          "metadata": {}
        },
        {
          "output_type": "execute_result",
          "data": {
            "text/plain": []
          },
          "metadata": {},
          "execution_count": 36
        }
      ]
    }
  ]
}